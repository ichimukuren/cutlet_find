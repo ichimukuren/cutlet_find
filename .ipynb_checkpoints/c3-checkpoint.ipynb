{
 "cells": [
  {
   "cell_type": "code",
   "execution_count": 1,
   "metadata": {},
   "outputs": [
    {
     "ename": "error",
     "evalue": "OpenCV(4.1.2) /Users/travis/build/skvark/opencv-python/opencv/modules/imgproc/src/color.cpp:182: error: (-215:Assertion failed) !_src.empty() in function 'cvtColor'\n",
     "output_type": "error",
     "traceback": [
      "\u001b[0;31m---------------------------------------------------------------------------\u001b[0m",
      "\u001b[0;31merror\u001b[0m                                     Traceback (most recent call last)",
      "\u001b[0;32m<ipython-input-1-d40599f49f20>\u001b[0m in \u001b[0;36m<module>\u001b[0;34m\u001b[0m\n\u001b[1;32m     51\u001b[0m \u001b[0;34m\u001b[0m\u001b[0m\n\u001b[1;32m     52\u001b[0m \u001b[0mimg\u001b[0m \u001b[0;34m=\u001b[0m \u001b[0mcv2\u001b[0m\u001b[0;34m.\u001b[0m\u001b[0mimread\u001b[0m\u001b[0;34m(\u001b[0m\u001b[0;34m\"images/c (3).jpg\"\u001b[0m\u001b[0;34m)\u001b[0m\u001b[0;34m\u001b[0m\u001b[0;34m\u001b[0m\u001b[0m\n\u001b[0;32m---> 53\u001b[0;31m \u001b[0mimg\u001b[0m \u001b[0;34m=\u001b[0m \u001b[0mcv2\u001b[0m\u001b[0;34m.\u001b[0m\u001b[0mcvtColor\u001b[0m\u001b[0;34m(\u001b[0m\u001b[0mimg\u001b[0m\u001b[0;34m,\u001b[0m \u001b[0mcv2\u001b[0m\u001b[0;34m.\u001b[0m\u001b[0mCOLOR_BGR2RGB\u001b[0m\u001b[0;34m)\u001b[0m\u001b[0;34m\u001b[0m\u001b[0;34m\u001b[0m\u001b[0m\n\u001b[0m\u001b[1;32m     54\u001b[0m \u001b[0mcircles\u001b[0m \u001b[0;34m=\u001b[0m \u001b[0mfind_circles\u001b[0m\u001b[0;34m(\u001b[0m\u001b[0mimg\u001b[0m\u001b[0;34m)\u001b[0m\u001b[0;34m\u001b[0m\u001b[0;34m\u001b[0m\u001b[0m\n\u001b[1;32m     55\u001b[0m \u001b[0;32mfor\u001b[0m \u001b[0mx\u001b[0m\u001b[0;34m,\u001b[0m\u001b[0my\u001b[0m\u001b[0;34m,\u001b[0m\u001b[0mradius\u001b[0m \u001b[0;32min\u001b[0m \u001b[0mcircles\u001b[0m\u001b[0;34m:\u001b[0m\u001b[0;34m\u001b[0m\u001b[0;34m\u001b[0m\u001b[0m\n",
      "\u001b[0;31merror\u001b[0m: OpenCV(4.1.2) /Users/travis/build/skvark/opencv-python/opencv/modules/imgproc/src/color.cpp:182: error: (-215:Assertion failed) !_src.empty() in function 'cvtColor'\n"
     ]
    }
   ],
   "source": [
    "import cv2\n",
    "import numpy as np\n",
    "\n",
    "import matplotlib.pyplot as plt\n",
    "\n",
    "def auto_canny(frame,sigma=0.33):\n",
    "    v = np.median(frame)\n",
    "    lower = int(max(0, (1.0 - sigma) * v))\n",
    "    upper = int(min(255, (1.0 + sigma) * v))\n",
    "    return cv2.Canny(frame,lower,upper)\n",
    "\n",
    "def find_circles(img,max_mean=0.3,circle_mean=0.05):\n",
    "    \"\"\"\n",
    "        max_mean - Максимальное отличие радиусов. в процентах дефол 30%\n",
    "        circle_mean - Максимальное отличие кол-ва вершин. строится градиент.\n",
    "    \"\"\"\n",
    "    \n",
    "    canny = auto_canny(img)\n",
    "    canny2 = cv2.dilate(canny, np.ones((3, 3), np.uint8))\n",
    "    contours, _ = cv2.findContours(canny2, cv2.RETR_EXTERNAL, cv2.CHAIN_APPROX_SIMPLE)\n",
    "    \n",
    "    all_radius = []\n",
    "    for i,cnt in enumerate(contours):\n",
    "        cnt = cv2.convexHull(cnt)\n",
    "        radius = cv2.arcLength(cnt,True) / (2*np.pi)\n",
    "        all_radius.append(radius)\n",
    "    \n",
    "    radius_average = np.average(all_radius,weights=all_radius)\n",
    "    \n",
    "    circles = []\n",
    "    loss = lambda x: x if (x < 1) else x-1\n",
    "    \n",
    "    \n",
    "    for i,cnt in enumerate(contours):\n",
    "        cnt = cv2.convexHull(cnt)\n",
    "        radius = cv2.arcLength(cnt,True) / (2*np.pi)\n",
    "        if radius >= radius_average:\n",
    "            ellipse = cv2.fitEllipse(cnt)\n",
    "            if loss(np.average(ellipse[1],weights=ellipse[1])/np.mean(ellipse[1])) > circle_mean:\n",
    "                continue\n",
    "            \n",
    "            (x,y),radius2 = cv2.minEnclosingCircle(cnt)\n",
    "            circles.append(np.int0([x,y,np.mean([radius,radius2]),len(cnt)]))\n",
    "    \n",
    "    circles = np.array(circles)\n",
    "    cntlen_average = np.average(circles[:,3],weights=circles[:,3])\n",
    "    \n",
    "    circles = circles[circles[:,3]/cntlen_average > 0.5]\n",
    "    return circles[:,:3]\n",
    "\n",
    "\n",
    "img = cv2.imread(\"images/c (3).jpg\")\n",
    "img = cv2.cvtColor(img, cv2.COLOR_BGR2RGB)\n",
    "circles = find_circles(img)\n",
    "for x,y,radius in circles:\n",
    "    cv2.circle(img,(x,y),radius,(0,255,0),2)\n",
    "\n",
    "pltshow(img)"
   ]
  },
  {
   "cell_type": "code",
   "execution_count": null,
   "metadata": {},
   "outputs": [],
   "source": []
  }
 ],
 "metadata": {
  "kernelspec": {
   "display_name": "Python 3",
   "language": "python",
   "name": "python3"
  },
  "language_info": {
   "codemirror_mode": {
    "name": "ipython",
    "version": 3
   },
   "file_extension": ".py",
   "mimetype": "text/x-python",
   "name": "python",
   "nbconvert_exporter": "python",
   "pygments_lexer": "ipython3",
   "version": "3.7.3"
  }
 },
 "nbformat": 4,
 "nbformat_minor": 2
}
