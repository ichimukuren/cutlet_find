{
 "cells": [
  {
   "cell_type": "code",
   "execution_count": 4,
   "metadata": {},
   "outputs": [],
   "source": [
    "import glob\n",
    "import math\n",
    "import time\n",
    "import cv2\n",
    "import numpy as np\n",
    "import imutils"
   ]
  },
  {
   "cell_type": "code",
   "execution_count": 5,
   "metadata": {},
   "outputs": [],
   "source": [
    "cap = cv2.VideoCapture(\"http://192.168.1.65:8080/video\")#\"http://192.168.1.65:8080/video\"\n",
    "# fourcc = cv2.VideoWriter_fourcc(*'MP4V')\n",
    "# ret, frame = cap.read() \n",
    "# v_out = cv2.VideoWriter('cutlet {}.mp4'.format(time.time()),fourcc, 5.0, (frame.shape[1],frame.shape[0]),3)\n",
    "    \n",
    "def auto_canny(frame,sigma=0.33):\n",
    "    v = np.median(frame)\n",
    "    lower = int(max(0, (1.0 - sigma) * v))\n",
    "    upper = int(min(255, (1.0 + sigma) * v))\n",
    "    return cv2.Canny(frame,lower,upper)\n",
    "\n",
    "while(cap.isOpened()):\n",
    "    key = cv2.waitKey(1)\n",
    "    ret, frame = cap.read() \n",
    "    out_im = frame.copy()\n",
    "    h,w = frame.shape[:2]\n",
    "    lower = np.array([25,0,255], dtype=np.uint8)\n",
    "    upper = np.array([140,255,255], dtype=np.uint8)\n",
    "    hsv = cv2.cvtColor(frame, cv2.COLOR_BGR2HSV)\n",
    "    mask = cv2.inRange(hsv, lower, upper)  \n",
    "    kernel = cv2.getStructuringElement(cv2.MORPH_ELLIPSE,(8,8))\n",
    "    \n",
    "    dilate_img = cv2.dilate(mask,kernel,iterations = 2)\n",
    "    erode = cv2.erode(dilate_img, kernel, iterations=2)\n",
    "    \n",
    "    cnts = cv2.findContours(erode.copy(), cv2.RETR_EXTERNAL,\n",
    "\tcv2.CHAIN_APPROX_SIMPLE)\n",
    "\n",
    "    cnts = imutils.grab_contours(cnts)\n",
    "    \n",
    "    \n",
    "    points = []\n",
    "    for c in cnts:\n",
    "       \n",
    "        # compute the center of the contour\n",
    "        M = cv2.moments(c)\n",
    "        if cv2.contourArea(c) > 20:\n",
    "            cX = int(M[\"m10\"] / M[\"m00\"])\n",
    "            cY = int(M[\"m01\"] / M[\"m00\"])\n",
    "            points.append((cX,cY))\n",
    "            \n",
    "            #draw the contour and center of the shape on the image\n",
    "            #cv2.drawContours(out_frame, [c], -1, (0, 255, 0), 2)\n",
    "            cv2.circle(out_im, (cX, cY), 3, (255, 0, 0), -1)\n",
    "    \n",
    "    \n",
    "\n",
    "   \n",
    "    #circles = cv2.HoughCircles(dilate_img, cv2.HOUGH_GRADIENT, 1.3, 100)\n",
    "    \n",
    "\n",
    "#     if circles is not None:\n",
    "#         circles = np.round(circles[0, :]).astype(\"int\")\n",
    "# #         test = frame.copy()\n",
    "# #         x, y, r = circles[0]\n",
    "# #         rectX = (x - r) \n",
    "# #         rectY = (y - r)\n",
    "# #         crop = test[rectY:(rectY+2*r), rectX:(rectX+2*r)]\n",
    "# #         cv2.imwrite(\"test.jpg\",crop)\n",
    "#         #cut  = circles[circles[:,2:-1]>100]\n",
    "        \n",
    "#         for i,(x, y, r) in enumerate(circles):\n",
    "#             if 100<r<150:\n",
    "#                 cv2.circle(out_im, (x, y), r, (0, 255, 0), 4)\n",
    "#                 cv2.putText(out_im, \"Cutlet {}\".format(i+1),(x-10,y+10),cv2.FONT_HERSHEY_SIMPLEX,1,(255,255,255),2)\n",
    "#                 cv2.putText(out_im, \"Cutlet {} - X:{}px Y:{}px R- {}\".format(i+1,x,y,r),(30,i*30 + 60),cv2.FONT_HERSHEY_SIMPLEX,1,(0,0,0),2)\n",
    "#                 cv2.circle(out_im,(x+r,y),3,(255,0,0),2)\n",
    "#                 cv2.circle(out_im,(x-r,y),3,(255,0,0),2)\n",
    "                      \n",
    "# v_out.write(out_im)\n",
    "    resized = cv2.resize(out_im,(int(w/2),int(h/2)))\n",
    "    cv2.imshow('output', resized)\n",
    "    if key == ord('q') or ret == False:\n",
    "        break \n",
    "\n",
    "cap.release()\n",
    "# if isinstance(v_out, type(None)) == False: v_out.release()\n",
    "cv2.destroyAllWindows()\n"
   ]
  },
  {
   "cell_type": "code",
   "execution_count": 3,
   "metadata": {},
   "outputs": [
    {
     "data": {
      "text/plain": [
       "numpy.ndarray"
      ]
     },
     "execution_count": 3,
     "metadata": {},
     "output_type": "execute_result"
    }
   ],
   "source": []
  },
  {
   "cell_type": "code",
   "execution_count": null,
   "metadata": {},
   "outputs": [],
   "source": []
  }
 ],
 "metadata": {
  "kernelspec": {
   "display_name": "Python 3",
   "language": "python",
   "name": "python3"
  },
  "language_info": {
   "codemirror_mode": {
    "name": "ipython",
    "version": 3
   },
   "file_extension": ".py",
   "mimetype": "text/x-python",
   "name": "python",
   "nbconvert_exporter": "python",
   "pygments_lexer": "ipython3",
   "version": "3.7.3"
  }
 },
 "nbformat": 4,
 "nbformat_minor": 4
}
